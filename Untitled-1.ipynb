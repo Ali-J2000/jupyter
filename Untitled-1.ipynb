{
 "cells": [
  {
   "cell_type": "code",
   "execution_count": null,
   "metadata": {},
   "outputs": [],
   "source": [
    "import pandas as pd\n",
    "\n",
    "dir_path = '/home/user/data/'\n",
    "\n",
    "# خواندن فایل CSV با نام \"data.csv\"\n",
    "file_path = os.path.join(dir_path, 'data.csv')\n",
    "df = pd.read_csv(file_path)\n",
    "\n",
    "# خواندن سه فایل CSV و ادغام آنها\n",
    "df1 = pd.read_csv('file1.csv')\n",
    "df2 = pd.read_csv('file2.csv')\n",
    "df3 = pd.read_csv('file3.csv')\n",
    "df = pd.concat([df1, df2, df3])\n",
    "\n",
    "# ایجاد متغیر مجموع همه داده ها\n",
    "total_sum = df.sum().sum()\n",
    "\n",
    "print(total_sum)"
   ]
  }
 ],
 "metadata": {
  "language_info": {
   "name": "python"
  }
 },
 "nbformat": 4,
 "nbformat_minor": 2
}
